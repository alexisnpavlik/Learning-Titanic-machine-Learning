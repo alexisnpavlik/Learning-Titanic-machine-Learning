{
 "cells": [
  {
   "cell_type": "markdown",
   "source": "## Introducción",
   "metadata": {
    "tags": [],
    "is_collapsed": false,
    "cell_id": "00000-6764da2e-cb06-4e0c-8395-d16242acde2d",
    "deepnote_app_coordinates": {
     "x": 0,
     "y": null,
     "w": 24,
     "h": 2
    },
    "deepnote_cell_type": "text-cell-h2"
   }
  },
  {
   "cell_type": "markdown",
   "source": "#### El hundimiento del RMS Titanic es uno de los naufragios más infames de la historia. El 15 de abril de 1912, durante su viaje inaugural. Aunque hubo algún elemento de suerte involucrado en sobrevivir al hundimiento, algunos grupos de personas tenían más probabilidades de sobrevivir que otros, como las mujeres, los niños y la clase alta.\n\n![Picture title](Titanic.jpg)\n\n#### Objetivo: Predecir que pasajero son los que sobreviviran con ayuda de \"Machine Learning\"",
   "metadata": {
    "tags": [],
    "cell_id": "00001-314e6ef1-b5fd-4f51-9842-2bdb3d90e233",
    "deepnote_app_coordinates": {
     "x": 0,
     "y": 3,
     "w": 24,
     "h": 27
    },
    "deepnote_cell_type": "markdown"
   }
  },
  {
   "cell_type": "markdown",
   "source": "## Importación de  las herramientas necesarias",
   "metadata": {
    "tags": [],
    "is_collapsed": false,
    "cell_id": "00002-f909075d-6d41-40df-aed2-0fb5703bcf06",
    "deepnote_app_coordinates": {
     "x": 0,
     "y": 31,
     "w": 24,
     "h": 2
    },
    "deepnote_cell_type": "text-cell-h2"
   }
  },
  {
   "cell_type": "code",
   "metadata": {
    "tags": [],
    "cell_id": "00000-8ee6c263-a1f0-4679-a8b1-29e9ec6d8a04",
    "deepnote_to_be_reexecuted": false,
    "source_hash": "d0d26510",
    "execution_start": 1630851764244,
    "execution_millis": 4428,
    "deepnote_app_coordinates": {
     "x": 0,
     "y": 34,
     "w": 24,
     "h": 7
    },
    "deepnote_cell_type": "code"
   },
   "source": "import pandas as pd #Libreria para manejo de datos\nimport numpy as np #Liberia de funciones matematicas\nfrom sklearn.linear_model import LogisticRegression #Modelo de Machine Learning\nfrom sklearn import metrics #Necesario para medir la eficiencia de nuestro modelo\nimport matplotlib.pyplot as plt #Libreria para realizar graficos 1\nimport seaborn as sns #Libreria para realizar graficos 2",
   "execution_count": null,
   "outputs": []
  },
  {
   "cell_type": "code",
   "metadata": {
    "tags": [],
    "cell_id": "00001-6bde09e6-59d4-4877-ad43-338bc77d3a85",
    "deepnote_to_be_reexecuted": false,
    "source_hash": "a48cbd4f",
    "execution_start": 1630851768681,
    "execution_millis": 70,
    "deepnote_app_coordinates": {
     "x": 0,
     "y": 42,
     "w": 24,
     "h": 6
    },
    "deepnote_cell_type": "code"
   },
   "source": "#Datasets\ntitanic_train=pd.read_csv('titanic_train.csv')\ntitanic_test=pd.read_csv('titanic_test.csv')\nresultados=pd.read_csv('titanic_control.csv')",
   "execution_count": null,
   "outputs": []
  },
  {
   "cell_type": "markdown",
   "source": "## Preprocesamiento de datos",
   "metadata": {
    "tags": [],
    "is_collapsed": false,
    "cell_id": "00005-a2dc7e2d-04bb-40bc-aa37-43bd74d07f59",
    "deepnote_app_coordinates": {
     "x": 0,
     "y": 49,
     "w": 24,
     "h": 2
    },
    "deepnote_cell_type": "text-cell-h2"
   }
  },
  {
   "cell_type": "code",
   "metadata": {
    "tags": [],
    "cell_id": "00001-df7e2be2-82d5-4965-b397-3a6081983147",
    "deepnote_to_be_reexecuted": false,
    "source_hash": "405e1f2b",
    "execution_start": 1630851768762,
    "execution_millis": 359,
    "deepnote_app_coordinates": {
     "x": 0,
     "y": 52,
     "w": 24,
     "h": 26
    },
    "deepnote_cell_type": "code"
   },
   "source": "titanic_test.sample(10)",
   "execution_count": null,
   "outputs": [
    {
     "output_type": "execute_result",
     "execution_count": 3,
     "data": {
      "application/vnd.deepnote.dataframe.v2+json": {
       "row_count": 10,
       "column_count": 11,
       "columns": [
        {
         "name": "PassengerId",
         "dtype": "int64",
         "stats": {
          "unique_count": 10,
          "nan_count": 0,
          "min": "943",
          "max": "1304",
          "histogram": [
           {
            "bin_start": 943,
            "bin_end": 979.1,
            "count": 3
           },
           {
            "bin_start": 979.1,
            "bin_end": 1015.2,
            "count": 0
           },
           {
            "bin_start": 1015.2,
            "bin_end": 1051.3,
            "count": 0
           },
           {
            "bin_start": 1051.3,
            "bin_end": 1087.4,
            "count": 1
           },
           {
            "bin_start": 1087.4,
            "bin_end": 1123.5,
            "count": 2
           },
           {
            "bin_start": 1123.5,
            "bin_end": 1159.6,
            "count": 1
           },
           {
            "bin_start": 1159.6,
            "bin_end": 1195.7,
            "count": 1
           },
           {
            "bin_start": 1195.7,
            "bin_end": 1231.8,
            "count": 1
           },
           {
            "bin_start": 1231.8,
            "bin_end": 1267.9,
            "count": 0
           },
           {
            "bin_start": 1267.9,
            "bin_end": 1304,
            "count": 1
           }
          ]
         }
        },
        {
         "name": "Pclass",
         "dtype": "int64",
         "stats": {
          "unique_count": 3,
          "nan_count": 0,
          "min": "1",
          "max": "3",
          "histogram": [
           {
            "bin_start": 1,
            "bin_end": 1.2,
            "count": 3
           },
           {
            "bin_start": 1.2,
            "bin_end": 1.4,
            "count": 0
           },
           {
            "bin_start": 1.4,
            "bin_end": 1.6,
            "count": 0
           },
           {
            "bin_start": 1.6,
            "bin_end": 1.8,
            "count": 0
           },
           {
            "bin_start": 1.8,
            "bin_end": 2,
            "count": 0
           },
           {
            "bin_start": 2,
            "bin_end": 2.2,
            "count": 2
           },
           {
            "bin_start": 2.2,
            "bin_end": 2.4000000000000004,
            "count": 0
           },
           {
            "bin_start": 2.4000000000000004,
            "bin_end": 2.6,
            "count": 0
           },
           {
            "bin_start": 2.6,
            "bin_end": 2.8,
            "count": 0
           },
           {
            "bin_start": 2.8,
            "bin_end": 3,
            "count": 5
           }
          ]
         }
        },
        {
         "name": "Name",
         "dtype": "object",
         "stats": {
          "unique_count": 10,
          "nan_count": 0,
          "categories": [
           {
            "name": "Head, Mr. Christopher",
            "count": 1
           },
           {
            "name": "Lyntakoff, Mr. Stanko",
            "count": 1
           },
           {
            "name": "8 others",
            "count": 8
           }
          ]
         }
        },
        {
         "name": "Sex",
         "dtype": "object",
         "stats": {
          "unique_count": 2,
          "nan_count": 0,
          "categories": [
           {
            "name": "male",
            "count": 7
           },
           {
            "name": "female",
            "count": 3
           }
          ]
         }
        },
        {
         "name": "Age",
         "dtype": "float64",
         "stats": {
          "unique_count": 7,
          "nan_count": 3,
          "min": "17.0",
          "max": "48.0",
          "histogram": [
           {
            "bin_start": 17,
            "bin_end": 20.1,
            "count": 1
           },
           {
            "bin_start": 20.1,
            "bin_end": 23.2,
            "count": 1
           },
           {
            "bin_start": 23.2,
            "bin_end": 26.3,
            "count": 0
           },
           {
            "bin_start": 26.3,
            "bin_end": 29.4,
            "count": 2
           },
           {
            "bin_start": 29.4,
            "bin_end": 32.5,
            "count": 0
           },
           {
            "bin_start": 32.5,
            "bin_end": 35.6,
            "count": 0
           },
           {
            "bin_start": 35.6,
            "bin_end": 38.7,
            "count": 0
           },
           {
            "bin_start": 38.7,
            "bin_end": 41.8,
            "count": 1
           },
           {
            "bin_start": 41.8,
            "bin_end": 44.900000000000006,
            "count": 1
           },
           {
            "bin_start": 44.900000000000006,
            "bin_end": 48,
            "count": 1
           }
          ]
         }
        },
        {
         "name": "SibSp",
         "dtype": "int64",
         "stats": {
          "unique_count": 1,
          "nan_count": 0,
          "min": "0",
          "max": "0",
          "histogram": [
           {
            "bin_start": -0.5,
            "bin_end": -0.4,
            "count": 0
           },
           {
            "bin_start": -0.4,
            "bin_end": -0.3,
            "count": 0
           },
           {
            "bin_start": -0.3,
            "bin_end": -0.19999999999999996,
            "count": 0
           },
           {
            "bin_start": -0.19999999999999996,
            "bin_end": -0.09999999999999998,
            "count": 0
           },
           {
            "bin_start": -0.09999999999999998,
            "bin_end": 0,
            "count": 0
           },
           {
            "bin_start": 0,
            "bin_end": 0.10000000000000009,
            "count": 10
           },
           {
            "bin_start": 0.10000000000000009,
            "bin_end": 0.20000000000000007,
            "count": 0
           },
           {
            "bin_start": 0.20000000000000007,
            "bin_end": 0.30000000000000004,
            "count": 0
           },
           {
            "bin_start": 0.30000000000000004,
            "bin_end": 0.4,
            "count": 0
           },
           {
            "bin_start": 0.4,
            "bin_end": 0.5,
            "count": 0
           }
          ]
         }
        },
        {
         "name": "Parch",
         "dtype": "int64",
         "stats": {
          "unique_count": 1,
          "nan_count": 0,
          "min": "0",
          "max": "0",
          "histogram": [
           {
            "bin_start": -0.5,
            "bin_end": -0.4,
            "count": 0
           },
           {
            "bin_start": -0.4,
            "bin_end": -0.3,
            "count": 0
           },
           {
            "bin_start": -0.3,
            "bin_end": -0.19999999999999996,
            "count": 0
           },
           {
            "bin_start": -0.19999999999999996,
            "bin_end": -0.09999999999999998,
            "count": 0
           },
           {
            "bin_start": -0.09999999999999998,
            "bin_end": 0,
            "count": 0
           },
           {
            "bin_start": 0,
            "bin_end": 0.10000000000000009,
            "count": 10
           },
           {
            "bin_start": 0.10000000000000009,
            "bin_end": 0.20000000000000007,
            "count": 0
           },
           {
            "bin_start": 0.20000000000000007,
            "bin_end": 0.30000000000000004,
            "count": 0
           },
           {
            "bin_start": 0.30000000000000004,
            "bin_end": 0.4,
            "count": 0
           },
           {
            "bin_start": 0.4,
            "bin_end": 0.5,
            "count": 0
           }
          ]
         }
        },
        {
         "name": "Ticket",
         "dtype": "object",
         "stats": {
          "unique_count": 10,
          "nan_count": 0,
          "categories": [
           {
            "name": "113038",
            "count": 1
           },
           {
            "name": "349235",
            "count": 1
           },
           {
            "name": "8 others",
            "count": 8
           }
          ]
         }
        },
        {
         "name": "Fare",
         "dtype": "float64",
         "stats": {
          "unique_count": 10,
          "nan_count": 0,
          "min": "7.725",
          "max": "211.3375",
          "histogram": [
           {
            "bin_start": 7.725,
            "bin_end": 28.08625,
            "count": 7
           },
           {
            "bin_start": 28.08625,
            "bin_end": 48.447500000000005,
            "count": 1
           },
           {
            "bin_start": 48.447500000000005,
            "bin_end": 68.80875,
            "count": 1
           },
           {
            "bin_start": 68.80875,
            "bin_end": 89.17,
            "count": 0
           },
           {
            "bin_start": 89.17,
            "bin_end": 109.53125,
            "count": 0
           },
           {
            "bin_start": 109.53125,
            "bin_end": 129.8925,
            "count": 0
           },
           {
            "bin_start": 129.8925,
            "bin_end": 150.25375,
            "count": 0
           },
           {
            "bin_start": 150.25375,
            "bin_end": 170.615,
            "count": 0
           },
           {
            "bin_start": 170.615,
            "bin_end": 190.97625000000002,
            "count": 0
           },
           {
            "bin_start": 190.97625000000002,
            "bin_end": 211.3375,
            "count": 1
           }
          ]
         }
        },
        {
         "name": "Cabin",
         "dtype": "object",
         "stats": {
          "unique_count": 2,
          "nan_count": 8,
          "categories": [
           {
            "name": "B11",
            "count": 1
           },
           {
            "name": "B10",
            "count": 1
           },
           {
            "name": "Missing",
            "count": 8
           }
          ]
         }
        },
        {
         "name": "Embarked",
         "dtype": "object",
         "stats": {
          "unique_count": 3,
          "nan_count": 0,
          "categories": [
           {
            "name": "S",
            "count": 6
           },
           {
            "name": "C",
            "count": 3
           },
           {
            "name": "Q",
            "count": 1
           }
          ]
         }
        },
        {
         "name": "_deepnote_index_column",
         "dtype": "int64"
        }
       ],
       "rows_top": [
        {
         "PassengerId": 1107,
         "Pclass": 1,
         "Name": "Head, Mr. Christopher",
         "Sex": "male",
         "Age": 42,
         "SibSp": 0,
         "Parch": 0,
         "Ticket": "113038",
         "Fare": 42.5,
         "Cabin": "B11",
         "Embarked": "S",
         "_deepnote_index_column": 215
        },
        {
         "PassengerId": 1157,
         "Pclass": 3,
         "Name": "Lyntakoff, Mr. Stanko",
         "Sex": "male",
         "Age": "nan",
         "SibSp": 0,
         "Parch": 0,
         "Ticket": "349235",
         "Fare": 7.8958,
         "Cabin": "nan",
         "Embarked": "S",
         "_deepnote_index_column": 265
        },
        {
         "PassengerId": 1216,
         "Pclass": 1,
         "Name": "Kreuchen, Miss. Emilie",
         "Sex": "female",
         "Age": 39,
         "SibSp": 0,
         "Parch": 0,
         "Ticket": "24160",
         "Fare": 211.3375,
         "Cabin": "nan",
         "Embarked": "S",
         "_deepnote_index_column": 324
        },
        {
         "PassengerId": 1058,
         "Pclass": 1,
         "Name": "Brandeis, Mr. Emil",
         "Sex": "male",
         "Age": 48,
         "SibSp": 0,
         "Parch": 0,
         "Ticket": "PC 17591",
         "Fare": 50.4958,
         "Cabin": "B10",
         "Embarked": "C",
         "_deepnote_index_column": 166
        },
        {
         "PassengerId": 946,
         "Pclass": 2,
         "Name": "Mangiavacchi, Mr. Serafino Emilio",
         "Sex": "male",
         "Age": "nan",
         "SibSp": 0,
         "Parch": 0,
         "Ticket": "SC/A.3 2861",
         "Fare": 15.5792,
         "Cabin": "nan",
         "Embarked": "C",
         "_deepnote_index_column": 54
        },
        {
         "PassengerId": 1304,
         "Pclass": 3,
         "Name": "Henriksson, Miss. Jenny Lovisa",
         "Sex": "female",
         "Age": 28,
         "SibSp": 0,
         "Parch": 0,
         "Ticket": "347086",
         "Fare": 7.775,
         "Cabin": "nan",
         "Embarked": "S",
         "_deepnote_index_column": 412
        },
        {
         "PassengerId": 955,
         "Pclass": 3,
         "Name": "Bradley, Miss. Bridget Delia",
         "Sex": "female",
         "Age": 22,
         "SibSp": 0,
         "Parch": 0,
         "Ticket": "334914",
         "Fare": 7.725,
         "Cabin": "nan",
         "Embarked": "Q",
         "_deepnote_index_column": 63
        },
        {
         "PassengerId": 1111,
         "Pclass": 3,
         "Name": "Thomson, Mr. Alexander Morrison",
         "Sex": "male",
         "Age": "nan",
         "SibSp": 0,
         "Parch": 0,
         "Ticket": "32302",
         "Fare": 8.05,
         "Cabin": "nan",
         "Embarked": "S",
         "_deepnote_index_column": 219
        },
        {
         "PassengerId": 943,
         "Pclass": 2,
         "Name": "Pulbaum, Mr. Franz",
         "Sex": "male",
         "Age": 27,
         "SibSp": 0,
         "Parch": 0,
         "Ticket": "SC/PARIS 2168",
         "Fare": 15.0333,
         "Cabin": "nan",
         "Embarked": "C",
         "_deepnote_index_column": 51
        },
        {
         "PassengerId": 1161,
         "Pclass": 3,
         "Name": "Pokrnic, Mr. Mate",
         "Sex": "male",
         "Age": 17,
         "SibSp": 0,
         "Parch": 0,
         "Ticket": "315095",
         "Fare": 8.6625,
         "Cabin": "nan",
         "Embarked": "S",
         "_deepnote_index_column": 269
        }
       ],
       "rows_bottom": null
      },
      "text/plain": "     PassengerId  Pclass                               Name     Sex   Age  \\\n215         1107       1              Head, Mr. Christopher    male  42.0   \n265         1157       3              Lyntakoff, Mr. Stanko    male   NaN   \n324         1216       1             Kreuchen, Miss. Emilie  female  39.0   \n166         1058       1                 Brandeis, Mr. Emil    male  48.0   \n54           946       2  Mangiavacchi, Mr. Serafino Emilio    male   NaN   \n412         1304       3     Henriksson, Miss. Jenny Lovisa  female  28.0   \n63           955       3       Bradley, Miss. Bridget Delia  female  22.0   \n219         1111       3    Thomson, Mr. Alexander Morrison    male   NaN   \n51           943       2                 Pulbaum, Mr. Franz    male  27.0   \n269         1161       3                  Pokrnic, Mr. Mate    male  17.0   \n\n     SibSp  Parch         Ticket      Fare Cabin Embarked  \n215      0      0         113038   42.5000   B11        S  \n265      0      0         349235    7.8958   NaN        S  \n324      0      0          24160  211.3375   NaN        S  \n166      0      0       PC 17591   50.4958   B10        C  \n54       0      0    SC/A.3 2861   15.5792   NaN        C  \n412      0      0         347086    7.7750   NaN        S  \n63       0      0         334914    7.7250   NaN        Q  \n219      0      0          32302    8.0500   NaN        S  \n51       0      0  SC/PARIS 2168   15.0333   NaN        C  \n269      0      0         315095    8.6625   NaN        S  ",
      "text/html": "<div>\n<style scoped>\n    .dataframe tbody tr th:only-of-type {\n        vertical-align: middle;\n    }\n\n    .dataframe tbody tr th {\n        vertical-align: top;\n    }\n\n    .dataframe thead th {\n        text-align: right;\n    }\n</style>\n<table border=\"1\" class=\"dataframe\">\n  <thead>\n    <tr style=\"text-align: right;\">\n      <th></th>\n      <th>PassengerId</th>\n      <th>Pclass</th>\n      <th>Name</th>\n      <th>Sex</th>\n      <th>Age</th>\n      <th>SibSp</th>\n      <th>Parch</th>\n      <th>Ticket</th>\n      <th>Fare</th>\n      <th>Cabin</th>\n      <th>Embarked</th>\n    </tr>\n  </thead>\n  <tbody>\n    <tr>\n      <th>215</th>\n      <td>1107</td>\n      <td>1</td>\n      <td>Head, Mr. Christopher</td>\n      <td>male</td>\n      <td>42.0</td>\n      <td>0</td>\n      <td>0</td>\n      <td>113038</td>\n      <td>42.5000</td>\n      <td>B11</td>\n      <td>S</td>\n    </tr>\n    <tr>\n      <th>265</th>\n      <td>1157</td>\n      <td>3</td>\n      <td>Lyntakoff, Mr. Stanko</td>\n      <td>male</td>\n      <td>NaN</td>\n      <td>0</td>\n      <td>0</td>\n      <td>349235</td>\n      <td>7.8958</td>\n      <td>NaN</td>\n      <td>S</td>\n    </tr>\n    <tr>\n      <th>324</th>\n      <td>1216</td>\n      <td>1</td>\n      <td>Kreuchen, Miss. Emilie</td>\n      <td>female</td>\n      <td>39.0</td>\n      <td>0</td>\n      <td>0</td>\n      <td>24160</td>\n      <td>211.3375</td>\n      <td>NaN</td>\n      <td>S</td>\n    </tr>\n    <tr>\n      <th>166</th>\n      <td>1058</td>\n      <td>1</td>\n      <td>Brandeis, Mr. Emil</td>\n      <td>male</td>\n      <td>48.0</td>\n      <td>0</td>\n      <td>0</td>\n      <td>PC 17591</td>\n      <td>50.4958</td>\n      <td>B10</td>\n      <td>C</td>\n    </tr>\n    <tr>\n      <th>54</th>\n      <td>946</td>\n      <td>2</td>\n      <td>Mangiavacchi, Mr. Serafino Emilio</td>\n      <td>male</td>\n      <td>NaN</td>\n      <td>0</td>\n      <td>0</td>\n      <td>SC/A.3 2861</td>\n      <td>15.5792</td>\n      <td>NaN</td>\n      <td>C</td>\n    </tr>\n    <tr>\n      <th>412</th>\n      <td>1304</td>\n      <td>3</td>\n      <td>Henriksson, Miss. Jenny Lovisa</td>\n      <td>female</td>\n      <td>28.0</td>\n      <td>0</td>\n      <td>0</td>\n      <td>347086</td>\n      <td>7.7750</td>\n      <td>NaN</td>\n      <td>S</td>\n    </tr>\n    <tr>\n      <th>63</th>\n      <td>955</td>\n      <td>3</td>\n      <td>Bradley, Miss. Bridget Delia</td>\n      <td>female</td>\n      <td>22.0</td>\n      <td>0</td>\n      <td>0</td>\n      <td>334914</td>\n      <td>7.7250</td>\n      <td>NaN</td>\n      <td>Q</td>\n    </tr>\n    <tr>\n      <th>219</th>\n      <td>1111</td>\n      <td>3</td>\n      <td>Thomson, Mr. Alexander Morrison</td>\n      <td>male</td>\n      <td>NaN</td>\n      <td>0</td>\n      <td>0</td>\n      <td>32302</td>\n      <td>8.0500</td>\n      <td>NaN</td>\n      <td>S</td>\n    </tr>\n    <tr>\n      <th>51</th>\n      <td>943</td>\n      <td>2</td>\n      <td>Pulbaum, Mr. Franz</td>\n      <td>male</td>\n      <td>27.0</td>\n      <td>0</td>\n      <td>0</td>\n      <td>SC/PARIS 2168</td>\n      <td>15.0333</td>\n      <td>NaN</td>\n      <td>C</td>\n    </tr>\n    <tr>\n      <th>269</th>\n      <td>1161</td>\n      <td>3</td>\n      <td>Pokrnic, Mr. Mate</td>\n      <td>male</td>\n      <td>17.0</td>\n      <td>0</td>\n      <td>0</td>\n      <td>315095</td>\n      <td>8.6625</td>\n      <td>NaN</td>\n      <td>S</td>\n    </tr>\n  </tbody>\n</table>\n</div>"
     },
     "metadata": {}
    }
   ]
  },
  {
   "cell_type": "markdown",
   "source": "### Comprobación de datos faltantes en el dataset",
   "metadata": {
    "tags": [],
    "is_collapsed": false,
    "cell_id": "00007-dfe76c09-5598-419d-82c3-cb5fb82fdcc2",
    "deepnote_app_coordinates": {
     "x": 0,
     "y": 79,
     "w": 24,
     "h": 2
    },
    "deepnote_cell_type": "text-cell-h3"
   }
  },
  {
   "cell_type": "code",
   "metadata": {
    "tags": [],
    "cell_id": "00002-df65fd03-d767-4ab8-b0a6-75f156299f85",
    "deepnote_to_be_reexecuted": false,
    "source_hash": "10fc96f8",
    "execution_start": 1630851769135,
    "execution_millis": 15,
    "deepnote_app_coordinates": {
     "x": 0,
     "y": 82,
     "w": 24,
     "h": 13
    },
    "deepnote_cell_type": "code",
    "deepnote_output_heights": [
     232.390625
    ]
   },
   "source": "titanic_test.isnull().sum()",
   "execution_count": null,
   "outputs": [
    {
     "output_type": "execute_result",
     "execution_count": 4,
     "data": {
      "text/plain": "PassengerId      0\nPclass           0\nName             0\nSex              0\nAge             86\nSibSp            0\nParch            0\nTicket           0\nFare             1\nCabin          327\nEmbarked         0\ndtype: int64"
     },
     "metadata": {}
    }
   ]
  },
  {
   "cell_type": "code",
   "metadata": {
    "tags": [],
    "cell_id": "00004-eb900111-df08-44c1-8cb7-03558226142f",
    "deepnote_to_be_reexecuted": false,
    "source_hash": "8c869a89",
    "execution_start": 1630851769223,
    "execution_millis": 345478,
    "deepnote_app_coordinates": {
     "x": 0,
     "y": 96,
     "w": 24,
     "h": 6
    },
    "deepnote_cell_type": "code"
   },
   "source": "#Se remplaza los datos faltantes por los valores promedio\ntitanic_train.Age=titanic_train.Age.fillna(titanic_train.Age.mean())\ntitanic_test.Age=titanic_test.Age.fillna(titanic_train.Age.mean())\ntitanic_test.Fare=titanic_test.Fare.fillna(titanic_train.Fare.mean())",
   "execution_count": null,
   "outputs": []
  },
  {
   "cell_type": "markdown",
   "source": "### Convertir variables categóricas a tipo dummy",
   "metadata": {
    "tags": [],
    "is_collapsed": false,
    "cell_id": "00010-3fb27491-ea32-44b6-8bf0-c7969744a17b",
    "deepnote_app_coordinates": {
     "x": 0,
     "y": 103,
     "w": 24,
     "h": 2
    },
    "deepnote_cell_type": "text-cell-h3"
   }
  },
  {
   "cell_type": "code",
   "metadata": {
    "tags": [],
    "cell_id": "00007-1bb1886f-ff2b-4845-b8de-b9ce20940e99",
    "deepnote_to_be_reexecuted": false,
    "source_hash": "794cdbdd",
    "execution_start": 1630851769223,
    "execution_millis": 144,
    "deepnote_app_coordinates": {
     "x": 0,
     "y": 106,
     "w": 24,
     "h": 29
    },
    "deepnote_cell_type": "code"
   },
   "source": "#Nuestro modelo solo puede interactuar con variables numericas\n#Por eso convertimos las variables categoricas a tipo dummy\n#Esto lo aplicamos a la variable sexo,debido que a que sera muy importante en el entrenamiento\ntitanic_train=pd.get_dummies(titanic_train, columns = [\"Sex\"],drop_first=True)\ntitanic_test=pd.get_dummies(titanic_test, columns = [\"Sex\"],drop_first=True)\ntitanic_test.sample(10)",
   "execution_count": null,
   "outputs": [
    {
     "output_type": "execute_result",
     "execution_count": 6,
     "data": {
      "application/vnd.deepnote.dataframe.v2+json": {
       "row_count": 10,
       "column_count": 11,
       "columns": [
        {
         "name": "PassengerId",
         "dtype": "int64",
         "stats": {
          "unique_count": 10,
          "nan_count": 0,
          "min": "899",
          "max": "1297",
          "histogram": [
           {
            "bin_start": 899,
            "bin_end": 938.8,
            "count": 2
           },
           {
            "bin_start": 938.8,
            "bin_end": 978.6,
            "count": 1
           },
           {
            "bin_start": 978.6,
            "bin_end": 1018.4,
            "count": 1
           },
           {
            "bin_start": 1018.4,
            "bin_end": 1058.2,
            "count": 1
           },
           {
            "bin_start": 1058.2,
            "bin_end": 1098,
            "count": 1
           },
           {
            "bin_start": 1098,
            "bin_end": 1137.8,
            "count": 0
           },
           {
            "bin_start": 1137.8,
            "bin_end": 1177.6,
            "count": 0
           },
           {
            "bin_start": 1177.6,
            "bin_end": 1217.4,
            "count": 2
           },
           {
            "bin_start": 1217.4,
            "bin_end": 1257.2,
            "count": 0
           },
           {
            "bin_start": 1257.2,
            "bin_end": 1297,
            "count": 2
           }
          ]
         }
        },
        {
         "name": "Pclass",
         "dtype": "int64",
         "stats": {
          "unique_count": 3,
          "nan_count": 0,
          "min": "1",
          "max": "3",
          "histogram": [
           {
            "bin_start": 1,
            "bin_end": 1.2,
            "count": 5
           },
           {
            "bin_start": 1.2,
            "bin_end": 1.4,
            "count": 0
           },
           {
            "bin_start": 1.4,
            "bin_end": 1.6,
            "count": 0
           },
           {
            "bin_start": 1.6,
            "bin_end": 1.8,
            "count": 0
           },
           {
            "bin_start": 1.8,
            "bin_end": 2,
            "count": 0
           },
           {
            "bin_start": 2,
            "bin_end": 2.2,
            "count": 2
           },
           {
            "bin_start": 2.2,
            "bin_end": 2.4000000000000004,
            "count": 0
           },
           {
            "bin_start": 2.4000000000000004,
            "bin_end": 2.6,
            "count": 0
           },
           {
            "bin_start": 2.6,
            "bin_end": 2.8,
            "count": 0
           },
           {
            "bin_start": 2.8,
            "bin_end": 3,
            "count": 3
           }
          ]
         }
        },
        {
         "name": "Name",
         "dtype": "object",
         "stats": {
          "unique_count": 10,
          "nan_count": 0,
          "categories": [
           {
            "name": "Evans, Miss. Edith Corse",
            "count": 1
           },
           {
            "name": "Astor, Col. John Jacob",
            "count": 1
           },
           {
            "name": "8 others",
            "count": 8
           }
          ]
         }
        },
        {
         "name": "Age",
         "dtype": "float64",
         "stats": {
          "unique_count": 9,
          "nan_count": 0,
          "min": "0.83",
          "max": "57.0",
          "histogram": [
           {
            "bin_start": 0.83,
            "bin_end": 6.447,
            "count": 1
           },
           {
            "bin_start": 6.447,
            "bin_end": 12.064,
            "count": 0
           },
           {
            "bin_start": 12.064,
            "bin_end": 17.680999999999997,
            "count": 0
           },
           {
            "bin_start": 17.680999999999997,
            "bin_end": 23.298,
            "count": 1
           },
           {
            "bin_start": 23.298,
            "bin_end": 28.915,
            "count": 2
           },
           {
            "bin_start": 28.915,
            "bin_end": 34.532,
            "count": 2
           },
           {
            "bin_start": 34.532,
            "bin_end": 40.149,
            "count": 1
           },
           {
            "bin_start": 40.149,
            "bin_end": 45.766,
            "count": 0
           },
           {
            "bin_start": 45.766,
            "bin_end": 51.382999999999996,
            "count": 2
           },
           {
            "bin_start": 51.382999999999996,
            "bin_end": 57,
            "count": 1
           }
          ]
         }
        },
        {
         "name": "SibSp",
         "dtype": "int64",
         "stats": {
          "unique_count": 2,
          "nan_count": 0,
          "min": "0",
          "max": "1",
          "histogram": [
           {
            "bin_start": 0,
            "bin_end": 0.1,
            "count": 7
           },
           {
            "bin_start": 0.1,
            "bin_end": 0.2,
            "count": 0
           },
           {
            "bin_start": 0.2,
            "bin_end": 0.30000000000000004,
            "count": 0
           },
           {
            "bin_start": 0.30000000000000004,
            "bin_end": 0.4,
            "count": 0
           },
           {
            "bin_start": 0.4,
            "bin_end": 0.5,
            "count": 0
           },
           {
            "bin_start": 0.5,
            "bin_end": 0.6000000000000001,
            "count": 0
           },
           {
            "bin_start": 0.6000000000000001,
            "bin_end": 0.7000000000000001,
            "count": 0
           },
           {
            "bin_start": 0.7000000000000001,
            "bin_end": 0.8,
            "count": 0
           },
           {
            "bin_start": 0.8,
            "bin_end": 0.9,
            "count": 0
           },
           {
            "bin_start": 0.9,
            "bin_end": 1,
            "count": 3
           }
          ]
         }
        },
        {
         "name": "Parch",
         "dtype": "int64",
         "stats": {
          "unique_count": 2,
          "nan_count": 0,
          "min": "0",
          "max": "1",
          "histogram": [
           {
            "bin_start": 0,
            "bin_end": 0.1,
            "count": 8
           },
           {
            "bin_start": 0.1,
            "bin_end": 0.2,
            "count": 0
           },
           {
            "bin_start": 0.2,
            "bin_end": 0.30000000000000004,
            "count": 0
           },
           {
            "bin_start": 0.30000000000000004,
            "bin_end": 0.4,
            "count": 0
           },
           {
            "bin_start": 0.4,
            "bin_end": 0.5,
            "count": 0
           },
           {
            "bin_start": 0.5,
            "bin_end": 0.6000000000000001,
            "count": 0
           },
           {
            "bin_start": 0.6000000000000001,
            "bin_end": 0.7000000000000001,
            "count": 0
           },
           {
            "bin_start": 0.7000000000000001,
            "bin_end": 0.8,
            "count": 0
           },
           {
            "bin_start": 0.8,
            "bin_end": 0.9,
            "count": 0
           },
           {
            "bin_start": 0.9,
            "bin_end": 1,
            "count": 2
           }
          ]
         }
        },
        {
         "name": "Ticket",
         "dtype": "object",
         "stats": {
          "unique_count": 10,
          "nan_count": 0,
          "categories": [
           {
            "name": "PC 17531",
            "count": 1
           },
           {
            "name": "PC 17757",
            "count": 1
           },
           {
            "name": "8 others",
            "count": 8
           }
          ]
         }
        },
        {
         "name": "Fare",
         "dtype": "float64",
         "stats": {
          "unique_count": 10,
          "nan_count": 0,
          "min": "0.0",
          "max": "227.525",
          "histogram": [
           {
            "bin_start": 0,
            "bin_end": 22.7525,
            "count": 5
           },
           {
            "bin_start": 22.7525,
            "bin_end": 45.505,
            "count": 3
           },
           {
            "bin_start": 45.505,
            "bin_end": 68.25750000000001,
            "count": 0
           },
           {
            "bin_start": 68.25750000000001,
            "bin_end": 91.01,
            "count": 0
           },
           {
            "bin_start": 91.01,
            "bin_end": 113.7625,
            "count": 0
           },
           {
            "bin_start": 113.7625,
            "bin_end": 136.51500000000001,
            "count": 0
           },
           {
            "bin_start": 136.51500000000001,
            "bin_end": 159.2675,
            "count": 1
           },
           {
            "bin_start": 159.2675,
            "bin_end": 182.02,
            "count": 0
           },
           {
            "bin_start": 182.02,
            "bin_end": 204.7725,
            "count": 0
           },
           {
            "bin_start": 204.7725,
            "bin_end": 227.525,
            "count": 1
           }
          ]
         }
        },
        {
         "name": "Cabin",
         "dtype": "object",
         "stats": {
          "unique_count": 6,
          "nan_count": 4,
          "categories": [
           {
            "name": "A29",
            "count": 1
           },
           {
            "name": "5 others",
            "count": 5
           },
           {
            "name": "Missing",
            "count": 4
           }
          ]
         }
        },
        {
         "name": "Embarked",
         "dtype": "object",
         "stats": {
          "unique_count": 3,
          "nan_count": 0,
          "categories": [
           {
            "name": "C",
            "count": 4
           },
           {
            "name": "S",
            "count": 4
           },
           {
            "name": "Q",
            "count": 2
           }
          ]
         }
        },
        {
         "name": "Sex_male",
         "dtype": "uint8",
         "stats": {
          "unique_count": 2,
          "nan_count": 0,
          "min": "0",
          "max": "1",
          "histogram": [
           {
            "bin_start": 0,
            "bin_end": 0.1,
            "count": 3
           },
           {
            "bin_start": 0.1,
            "bin_end": 0.2,
            "count": 0
           },
           {
            "bin_start": 0.2,
            "bin_end": 0.30000000000000004,
            "count": 0
           },
           {
            "bin_start": 0.30000000000000004,
            "bin_end": 0.4,
            "count": 0
           },
           {
            "bin_start": 0.4,
            "bin_end": 0.5,
            "count": 0
           },
           {
            "bin_start": 0.5,
            "bin_end": 0.6000000000000001,
            "count": 0
           },
           {
            "bin_start": 0.6000000000000001,
            "bin_end": 0.7000000000000001,
            "count": 0
           },
           {
            "bin_start": 0.7000000000000001,
            "bin_end": 0.8,
            "count": 0
           },
           {
            "bin_start": 0.8,
            "bin_end": 0.9,
            "count": 0
           },
           {
            "bin_start": 0.9,
            "bin_end": 1,
            "count": 7
           }
          ]
         }
        },
        {
         "name": "_deepnote_index_column",
         "dtype": "int64"
        }
       ],
       "rows_top": [
        {
         "PassengerId": 1004,
         "Pclass": 1,
         "Name": "Evans, Miss. Edith Corse",
         "Age": 36,
         "SibSp": 0,
         "Parch": 0,
         "Ticket": "PC 17531",
         "Fare": 31.6792,
         "Cabin": "A29",
         "Embarked": "C",
         "Sex_male": 0,
         "_deepnote_index_column": 112
        },
        {
         "PassengerId": 1094,
         "Pclass": 1,
         "Name": "Astor, Col. John Jacob",
         "Age": 47,
         "SibSp": 1,
         "Parch": 0,
         "Ticket": "PC 17757",
         "Fare": 227.525,
         "Cabin": "C62 C64",
         "Embarked": "C",
         "Sex_male": 1,
         "_deepnote_index_column": 202
        },
        {
         "PassengerId": 1264,
         "Pclass": 1,
         "Name": "Ismay, Mr. Joseph Bruce",
         "Age": 49,
         "SibSp": 0,
         "Parch": 0,
         "Ticket": "112058",
         "Fare": 0,
         "Cabin": "B52 B54 B56",
         "Embarked": "S",
         "Sex_male": 1,
         "_deepnote_index_column": 372
        },
        {
         "PassengerId": 933,
         "Pclass": 1,
         "Name": "Franklin, Mr. Thomas Parham",
         "Age": 29.69911764705882,
         "SibSp": 0,
         "Parch": 0,
         "Ticket": "113778",
         "Fare": 26.55,
         "Cabin": "D34",
         "Embarked": "S",
         "Sex_male": 1,
         "_deepnote_index_column": 41
        },
        {
         "PassengerId": 1052,
         "Pclass": 3,
         "Name": "Smyth, Miss. Julia",
         "Age": 29.69911764705882,
         "SibSp": 0,
         "Parch": 0,
         "Ticket": "335432",
         "Fare": 7.7333,
         "Cabin": "nan",
         "Embarked": "Q",
         "Sex_male": 0,
         "_deepnote_index_column": 160
        },
        {
         "PassengerId": 1297,
         "Pclass": 2,
         "Name": "Nourney, Mr. Alfred (Baron von Drachstedt\")\"",
         "Age": 20,
         "SibSp": 0,
         "Parch": 0,
         "Ticket": "SC/PARIS 2166",
         "Fare": 13.8625,
         "Cabin": "D38",
         "Embarked": "C",
         "Sex_male": 1,
         "_deepnote_index_column": 405
        },
        {
         "PassengerId": 971,
         "Pclass": 3,
         "Name": "Doyle, Miss. Elizabeth",
         "Age": 24,
         "SibSp": 0,
         "Parch": 0,
         "Ticket": "368702",
         "Fare": 7.75,
         "Cabin": "nan",
         "Embarked": "Q",
         "Sex_male": 0,
         "_deepnote_index_column": 79
        },
        {
         "PassengerId": 899,
         "Pclass": 2,
         "Name": "Caldwell, Mr. Albert Francis",
         "Age": 26,
         "SibSp": 1,
         "Parch": 1,
         "Ticket": "248738",
         "Fare": 29,
         "Cabin": "nan",
         "Embarked": "S",
         "Sex_male": 1,
         "_deepnote_index_column": 7
        },
        {
         "PassengerId": 1199,
         "Pclass": 3,
         "Name": "Aks, Master. Philip Frank",
         "Age": 0.83,
         "SibSp": 0,
         "Parch": 1,
         "Ticket": "392091",
         "Fare": 9.35,
         "Cabin": "nan",
         "Embarked": "S",
         "Sex_male": 1,
         "_deepnote_index_column": 307
        },
        {
         "PassengerId": 1208,
         "Pclass": 1,
         "Name": "Spencer, Mr. William Augustus",
         "Age": 57,
         "SibSp": 1,
         "Parch": 0,
         "Ticket": "PC 17569",
         "Fare": 146.5208,
         "Cabin": "B78",
         "Embarked": "C",
         "Sex_male": 1,
         "_deepnote_index_column": 316
        }
       ],
       "rows_bottom": null
      },
      "text/plain": "     PassengerId  Pclass                                          Name  \\\n112         1004       1                      Evans, Miss. Edith Corse   \n202         1094       1                        Astor, Col. John Jacob   \n372         1264       1                       Ismay, Mr. Joseph Bruce   \n41           933       1                   Franklin, Mr. Thomas Parham   \n160         1052       3                            Smyth, Miss. Julia   \n405         1297       2  Nourney, Mr. Alfred (Baron von Drachstedt\")\"   \n79           971       3                        Doyle, Miss. Elizabeth   \n7            899       2                  Caldwell, Mr. Albert Francis   \n307         1199       3                     Aks, Master. Philip Frank   \n316         1208       1                 Spencer, Mr. William Augustus   \n\n           Age  SibSp  Parch         Ticket      Fare        Cabin Embarked  \\\n112  36.000000      0      0       PC 17531   31.6792          A29        C   \n202  47.000000      1      0       PC 17757  227.5250      C62 C64        C   \n372  49.000000      0      0         112058    0.0000  B52 B54 B56        S   \n41   29.699118      0      0         113778   26.5500          D34        S   \n160  29.699118      0      0         335432    7.7333          NaN        Q   \n405  20.000000      0      0  SC/PARIS 2166   13.8625          D38        C   \n79   24.000000      0      0         368702    7.7500          NaN        Q   \n7    26.000000      1      1         248738   29.0000          NaN        S   \n307   0.830000      0      1         392091    9.3500          NaN        S   \n316  57.000000      1      0       PC 17569  146.5208          B78        C   \n\n     Sex_male  \n112         0  \n202         1  \n372         1  \n41          1  \n160         0  \n405         1  \n79          0  \n7           1  \n307         1  \n316         1  ",
      "text/html": "<div>\n<style scoped>\n    .dataframe tbody tr th:only-of-type {\n        vertical-align: middle;\n    }\n\n    .dataframe tbody tr th {\n        vertical-align: top;\n    }\n\n    .dataframe thead th {\n        text-align: right;\n    }\n</style>\n<table border=\"1\" class=\"dataframe\">\n  <thead>\n    <tr style=\"text-align: right;\">\n      <th></th>\n      <th>PassengerId</th>\n      <th>Pclass</th>\n      <th>Name</th>\n      <th>Age</th>\n      <th>SibSp</th>\n      <th>Parch</th>\n      <th>Ticket</th>\n      <th>Fare</th>\n      <th>Cabin</th>\n      <th>Embarked</th>\n      <th>Sex_male</th>\n    </tr>\n  </thead>\n  <tbody>\n    <tr>\n      <th>112</th>\n      <td>1004</td>\n      <td>1</td>\n      <td>Evans, Miss. Edith Corse</td>\n      <td>36.000000</td>\n      <td>0</td>\n      <td>0</td>\n      <td>PC 17531</td>\n      <td>31.6792</td>\n      <td>A29</td>\n      <td>C</td>\n      <td>0</td>\n    </tr>\n    <tr>\n      <th>202</th>\n      <td>1094</td>\n      <td>1</td>\n      <td>Astor, Col. John Jacob</td>\n      <td>47.000000</td>\n      <td>1</td>\n      <td>0</td>\n      <td>PC 17757</td>\n      <td>227.5250</td>\n      <td>C62 C64</td>\n      <td>C</td>\n      <td>1</td>\n    </tr>\n    <tr>\n      <th>372</th>\n      <td>1264</td>\n      <td>1</td>\n      <td>Ismay, Mr. Joseph Bruce</td>\n      <td>49.000000</td>\n      <td>0</td>\n      <td>0</td>\n      <td>112058</td>\n      <td>0.0000</td>\n      <td>B52 B54 B56</td>\n      <td>S</td>\n      <td>1</td>\n    </tr>\n    <tr>\n      <th>41</th>\n      <td>933</td>\n      <td>1</td>\n      <td>Franklin, Mr. Thomas Parham</td>\n      <td>29.699118</td>\n      <td>0</td>\n      <td>0</td>\n      <td>113778</td>\n      <td>26.5500</td>\n      <td>D34</td>\n      <td>S</td>\n      <td>1</td>\n    </tr>\n    <tr>\n      <th>160</th>\n      <td>1052</td>\n      <td>3</td>\n      <td>Smyth, Miss. Julia</td>\n      <td>29.699118</td>\n      <td>0</td>\n      <td>0</td>\n      <td>335432</td>\n      <td>7.7333</td>\n      <td>NaN</td>\n      <td>Q</td>\n      <td>0</td>\n    </tr>\n    <tr>\n      <th>405</th>\n      <td>1297</td>\n      <td>2</td>\n      <td>Nourney, Mr. Alfred (Baron von Drachstedt\")\"</td>\n      <td>20.000000</td>\n      <td>0</td>\n      <td>0</td>\n      <td>SC/PARIS 2166</td>\n      <td>13.8625</td>\n      <td>D38</td>\n      <td>C</td>\n      <td>1</td>\n    </tr>\n    <tr>\n      <th>79</th>\n      <td>971</td>\n      <td>3</td>\n      <td>Doyle, Miss. Elizabeth</td>\n      <td>24.000000</td>\n      <td>0</td>\n      <td>0</td>\n      <td>368702</td>\n      <td>7.7500</td>\n      <td>NaN</td>\n      <td>Q</td>\n      <td>0</td>\n    </tr>\n    <tr>\n      <th>7</th>\n      <td>899</td>\n      <td>2</td>\n      <td>Caldwell, Mr. Albert Francis</td>\n      <td>26.000000</td>\n      <td>1</td>\n      <td>1</td>\n      <td>248738</td>\n      <td>29.0000</td>\n      <td>NaN</td>\n      <td>S</td>\n      <td>1</td>\n    </tr>\n    <tr>\n      <th>307</th>\n      <td>1199</td>\n      <td>3</td>\n      <td>Aks, Master. Philip Frank</td>\n      <td>0.830000</td>\n      <td>0</td>\n      <td>1</td>\n      <td>392091</td>\n      <td>9.3500</td>\n      <td>NaN</td>\n      <td>S</td>\n      <td>1</td>\n    </tr>\n    <tr>\n      <th>316</th>\n      <td>1208</td>\n      <td>1</td>\n      <td>Spencer, Mr. William Augustus</td>\n      <td>57.000000</td>\n      <td>1</td>\n      <td>0</td>\n      <td>PC 17569</td>\n      <td>146.5208</td>\n      <td>B78</td>\n      <td>C</td>\n      <td>1</td>\n    </tr>\n  </tbody>\n</table>\n</div>"
     },
     "metadata": {}
    }
   ]
  },
  {
   "cell_type": "markdown",
   "source": "## Entrenamiento de modelo de regresión logística",
   "metadata": {
    "tags": [],
    "is_collapsed": false,
    "cell_id": "00014-944802fb-9c72-41e1-93c0-0c9c7653bb23",
    "deepnote_app_coordinates": {
     "x": 0,
     "y": 136,
     "w": 24,
     "h": 2
    },
    "deepnote_cell_type": "text-cell-h2"
   }
  },
  {
   "cell_type": "code",
   "metadata": {
    "tags": [],
    "cell_id": "00003-b4535ab0-6647-4cd1-94cb-adea5cddd91b",
    "deepnote_to_be_reexecuted": false,
    "source_hash": "329d55e8",
    "execution_start": 1630851769391,
    "execution_millis": 345464,
    "deepnote_app_coordinates": {
     "x": 0,
     "y": 139,
     "w": 24,
     "h": 6
    },
    "deepnote_cell_type": "code"
   },
   "source": "columnas=['Pclass','Age','Fare','Sex_male','Parch','SibSp']\nx_train=titanic_train[columnas]\ny_train=titanic_train['Survived']\nx_test=titanic_test[columnas]\ny_test=resultados['Survived']",
   "execution_count": null,
   "outputs": []
  },
  {
   "cell_type": "code",
   "metadata": {
    "tags": [],
    "cell_id": "00004-0e2e552a-f690-4aa9-b679-b80282eadc6e",
    "deepnote_to_be_reexecuted": false,
    "source_hash": "a032a068",
    "execution_start": 1630851769445,
    "execution_millis": 105,
    "deepnote_app_coordinates": {
     "x": 0,
     "y": 146,
     "w": 24,
     "h": 4
    },
    "deepnote_cell_type": "code"
   },
   "source": "regresion_logistica=LogisticRegression(max_iter=len(x_train)).fit(x_train,y_train)\n#Entrenamiento del modelo",
   "execution_count": null,
   "outputs": []
  },
  {
   "cell_type": "code",
   "metadata": {
    "tags": [],
    "cell_id": "00006-2d7b2b7b-297e-4376-9dda-e6b4498fbf1c",
    "deepnote_to_be_reexecuted": false,
    "source_hash": "3799ce03",
    "execution_start": 1630851769550,
    "execution_millis": 1,
    "deepnote_app_coordinates": {
     "x": 0,
     "y": 151,
     "w": 24,
     "h": 4
    },
    "deepnote_cell_type": "code"
   },
   "source": "y_pred=regresion_logistica.predict(x_test)\n#Predecir el destino de los pasajeros",
   "execution_count": null,
   "outputs": []
  },
  {
   "cell_type": "markdown",
   "source": "## Verificación de la eficiencia del modelo ya entrenado",
   "metadata": {
    "tags": [],
    "is_collapsed": false,
    "cell_id": "00017-3a30dfaa-f545-4583-bd1b-d50b88fab965",
    "deepnote_app_coordinates": {
     "x": 0,
     "y": 156,
     "w": 24,
     "h": 2
    },
    "deepnote_cell_type": "text-cell-h2"
   }
  },
  {
   "cell_type": "markdown",
   "source": "### Método Gráfico: Matriz de confusión",
   "metadata": {
    "tags": [],
    "is_collapsed": false,
    "cell_id": "00019-e0ee0a16-9f76-4fcc-982b-df461a44f79c",
    "deepnote_app_coordinates": {
     "x": 0,
     "y": 159,
     "w": 24,
     "h": 2
    },
    "deepnote_cell_type": "text-cell-h3"
   }
  },
  {
   "cell_type": "markdown",
   "source": "#### Con esta matriz podemos medir cual es el índice de acierto del modelo\n![Picture title](image-20210905-112155.png)",
   "metadata": {
    "tags": [],
    "cell_id": "00020-ddbbf55b-0960-45a3-9072-99c3fb249ee2",
    "deepnote_app_coordinates": {
     "x": 0,
     "y": 162,
     "w": 24,
     "h": 19
    },
    "deepnote_cell_type": "markdown"
   }
  },
  {
   "cell_type": "code",
   "metadata": {
    "tags": [],
    "cell_id": "00011-122ebe28-e3f0-403a-b663-53f290016d8b",
    "deepnote_to_be_reexecuted": false,
    "source_hash": "fbd214ea",
    "execution_start": 1630851769583,
    "execution_millis": 3,
    "deepnote_app_coordinates": {
     "x": 0,
     "y": 182,
     "w": 24,
     "h": 6
    },
    "deepnote_cell_type": "code",
    "deepnote_output_heights": [
     40.390625
    ]
   },
   "source": "matriz_confucion=metrics.confusion_matrix(y_test,y_pred)",
   "execution_count": null,
   "outputs": [
    {
     "output_type": "execute_result",
     "execution_count": 10,
     "data": {
      "text/plain": "array([[253,  13],\n       [  9, 143]])"
     },
     "metadata": {}
    }
   ]
  },
  {
   "cell_type": "code",
   "metadata": {
    "tags": [],
    "cell_id": "00012-48715928-e940-497a-82d1-965471819df2",
    "deepnote_to_be_reexecuted": false,
    "source_hash": "4ba88c3b",
    "execution_start": 1630851769630,
    "execution_millis": 853,
    "deepnote_app_coordinates": {
     "x": 0,
     "y": 189,
     "w": 24,
     "h": 26
    },
    "deepnote_cell_type": "code",
    "deepnote_output_heights": [
     21.1875,
     322
    ]
   },
   "source": "class_names = [0,1]\nfig, ax = plt.subplots()\ntick_marks = np.arange(len(class_names))\nplt.xticks(tick_marks, class_names)\nplt.yticks(tick_marks, class_names)\nsns.heatmap(pd.DataFrame(matriz_confucion), annot = True, cmap=\"Blues_r\", fmt=\"g\")\nax.xaxis.set_label_position(\"top\")\nplt.tight_layout()\nplt.title(\"Matriz de confusion\", y=1.1)\nplt.ylabel(\"Etiqueta Actual\")\nplt.xlabel(\"Etiqueta de prediccion\")",
   "execution_count": null,
   "outputs": [
    {
     "output_type": "execute_result",
     "execution_count": 11,
     "data": {
      "text/plain": "Text(0.5, 257.44, 'Etiqueta de prediccion')"
     },
     "metadata": {}
    },
    {
     "data": {
      "text/plain": "<Figure size 432x288 with 2 Axes>",
      "image/png": "[encoded data removed]"
     },
     "metadata": {
      "needs_background": "light",
      "image/png": {
       "width": 418,
       "height": 320
      }
     },
     "output_type": "display_data"
    }
   ]
  },
  {
   "cell_type": "markdown",
   "source": "### Método analítico: Precisión de modelo",
   "metadata": {
    "tags": [],
    "is_collapsed": false,
    "cell_id": "00021-383b049f-596a-4b19-b30d-84f8bd6e07f4",
    "deepnote_app_coordinates": {
     "x": 0,
     "y": 216,
     "w": 24,
     "h": 2
    },
    "deepnote_cell_type": "text-cell-h3"
   }
  },
  {
   "cell_type": "code",
   "metadata": {
    "tags": [],
    "cell_id": "00013-af031649-55b2-460d-8f66-f66328f37add",
    "deepnote_to_be_reexecuted": false,
    "source_hash": "737e21ee",
    "execution_start": 1630851770493,
    "execution_millis": 16,
    "deepnote_app_coordinates": {
     "x": 0,
     "y": 219,
     "w": 24,
     "h": 5
    },
    "deepnote_cell_type": "code"
   },
   "source": "print('Exactitud del',round((metrics.accuracy_score(y_test,y_pred)*100),2),'%')",
   "execution_count": null,
   "outputs": [
    {
     "name": "stdout",
     "text": "Exactitud del 94.74 %\n",
     "output_type": "stream"
    }
   ]
  },
  {
   "cell_type": "markdown",
   "source": "## Conclusión",
   "metadata": {
    "tags": [],
    "is_collapsed": false,
    "cell_id": "00024-e53b1f15-58fd-41ed-ba7f-7128a123ba59",
    "deepnote_app_coordinates": {
     "x": 0,
     "y": 225,
     "w": 24,
     "h": 2
    },
    "deepnote_cell_type": "text-cell-h2"
   }
  },
  {
   "cell_type": "markdown",
   "source": "#### Después del entrenamiento podemos ver que obtenemos una precisión de aproximadamente 95% de efectividad con nuestro modelo.\n#### La regresión logística resulto muy adecuada para la clasificación binaria para determinar la probabilidad de supervivencia de cada individuo a bordo del titánic.\n",
   "metadata": {
    "tags": [],
    "cell_id": "00024-f9f611eb-fc1b-4599-8a47-015d05b9f8b8",
    "deepnote_app_coordinates": {
     "x": 0,
     "y": 228,
     "w": 24,
     "h": 6
    },
    "deepnote_cell_type": "markdown"
   }
  },
  {
   "cell_type": "markdown",
   "source": "<a style='text-decoration:none;line-height:16px;display:flex;color:#5B5B62;padding:10px;justify-content:end;' href='https://deepnote.com?utm_source=created-in-deepnote-cell&projectId=3e10bc24-4cc7-4253-93e3-870f1fc825d5' target=\"_blank\">\n<img alt='Created in deepnote.com' style='display:inline;max-height:16px;margin:0px;margin-right:7.5px;' src='data:image/svg+xml;base64,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' > </img>\nCreated in <span style='font-weight:600;margin-left:4px;'>Deepnote</span></a>",
   "metadata": {
    "tags": [],
    "created_in_deepnote_cell": true,
    "deepnote_cell_type": "markdown"
   }
  }
 ],
 "nbformat": 4,
 "nbformat_minor": 2,
 "metadata": {
  "orig_nbformat": 2,
  "deepnote": {
   "is_reactive": false
  },
  "deepnote_notebook_id": "275b21b0-e519-42f7-924b-f0d8225929b4",
  "deepnote_execution_queue": [],
  "deepnote_app_layout": "article"
 }
}